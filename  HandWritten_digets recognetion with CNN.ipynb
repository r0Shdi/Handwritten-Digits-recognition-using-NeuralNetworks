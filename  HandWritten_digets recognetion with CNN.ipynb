{
 "cells": [
  {
   "cell_type": "code",
   "execution_count": 152,
   "id": "33f7ba9f",
   "metadata": {},
   "outputs": [],
   "source": [
    "from scipy.special import expit\n",
    "import numpy as np\n",
    "import matplotlib.pyplot as plt"
   ]
  },
  {
   "cell_type": "code",
   "execution_count": 153,
   "id": "4cd45b46",
   "metadata": {},
   "outputs": [],
   "source": [
    "class NeuralNetwork:\n",
    "    def __init__(self,INodes,HNodes,ONodes,Lrate):\n",
    "        self.IN=INodes\n",
    "        self.HN=HNodes\n",
    "        self.ON=ONodes\n",
    "        self.LR=Lrate\n",
    "        self.wih=np.random.normal(0.0,pow(self.IN,-0.5),(self.HN,self.IN))\n",
    "        self.who=np.random.normal(0.0,pow(self.HN,-0.5),(self.ON,self.HN))\n",
    "        self.activation_function=lambda x: expit(x)\n",
    "        pass\n",
    "        \n",
    "        \n",
    "        \n",
    "        \n",
    "        \n",
    "        \n",
    "    def query(self,inputs_list):\n",
    "        inputs = np.array(inputs_list, ndmin=2).T\n",
    "        hidden_inputs=np.dot(self.wih,inputs)\n",
    "        hidden_outputs=self.activation_function(hidden_inputs)\n",
    "        final_inputs=np.dot(self.who,hidden_outputs)\n",
    "        final_outputs=self.activation_function(final_inputs)\n",
    "        return final_outputs\n",
    "    \n",
    "    \n",
    "    \n",
    "    \n",
    "    \n",
    "    def train(self,inputs_list,targets_list):\n",
    "        \n",
    "        inputs = np.array(inputs_list, ndmin=2).T\n",
    "        targets = np.array(targets_list, ndmin=2).T\n",
    "        \n",
    "        hidden_inputs=np.dot(self.wih,inputs)\n",
    "        hidden_outputs=self.activation_function(hidden_inputs)\n",
    "        \n",
    "        final_inputs=np.dot(self.who,hidden_outputs)\n",
    "        final_outputs=self.activation_function(final_inputs)\n",
    "        \n",
    "        output_errors =targets-final_outputs\n",
    "        hidden_errors=np.dot(self.who.T,output_errors)\n",
    "        \n",
    "        self.who+=self.LR*np.dot((output_errors*final_outputs*(1.0-final_outputs)),np.transpose(hidden_outputs))\n",
    "        self.wih+=self.LR*np.dot((hidden_errors*hidden_outputs*(1.0-hidden_outputs)),np.transpose(inputs))\n",
    "        \n",
    "        "
   ]
  },
  {
   "cell_type": "code",
   "execution_count": 154,
   "id": "ccb3a00f",
   "metadata": {},
   "outputs": [],
   "source": [
    "# number of input, hidden and output nodes\n",
    "input_nodes = 784\n",
    "hidden_nodes = 200\n",
    "output_nodes = 10\n",
    "\n",
    "# learning rate\n",
    "learning_rate = 0.1\n",
    "\n",
    "# create instance of neural network\n",
    "n = NeuralNetwork(input_nodes,hidden_nodes,output_nodes, learning_rate)\n",
    "\n",
    "\n"
   ]
  },
  {
   "cell_type": "code",
   "execution_count": 155,
   "id": "106d0571",
   "metadata": {},
   "outputs": [],
   "source": [
    "dfile=open('/Users/roshdyhamdy/Documents/NN/mnist_train.csv','r')\n",
    "training_data_list=dfile.readlines()\n",
    "dfile.close()\n",
    "\n",
    "# load the mnist test data CSV file into a list\n",
    "d_file=open(\"/Users/roshdyhamdy/Documents/NN/mnist_test.csv\",'r')\n",
    "test_data_list = d_file.readlines()\n",
    "d_file.close()"
   ]
  },
  {
   "cell_type": "code",
   "execution_count": 156,
   "id": "6c20daee",
   "metadata": {},
   "outputs": [],
   "source": [
    "#this going to take sometime,be patient!\n",
    "\n",
    "# train the neural network\n",
    "\n",
    "# epochs is the number of times the training data set is used for training\n",
    "\n",
    "epochs = 5\n",
    "\n",
    "for e in range(epochs):  \n",
    "        for record in training_data_list:\n",
    "                    all_values=record.split(',')\n",
    "                    inpot=(np.asfarray(all_values[1:])/255.0 * 0.99) + 0.01\n",
    "                    target=np.zeros(output_nodes) +0.01\n",
    "                    target[int(all_values[0])]=0.99\n",
    "                    n.train(inpot,target)\n",
    "            \n",
    "       \n"
   ]
  },
  {
   "cell_type": "code",
   "execution_count": null,
   "id": "a6cdeeab",
   "metadata": {},
   "outputs": [],
   "source": []
  },
  {
   "cell_type": "code",
   "execution_count": 157,
   "id": "bce75302",
   "metadata": {},
   "outputs": [],
   "source": [
    "# test the neural network\n",
    "\n",
    "# scorecard for how well the network performs, initially empty\n",
    "scorecard = []\n",
    "\n",
    "# go through all the records in the test data set\n",
    "for record in test_data_list:\n",
    "    # split the record by the ',' commas\n",
    "    all_values = record.split(',')\n",
    "    # correct answer is first value\n",
    "    correct_label = int(all_values[0])\n",
    "    # scale and shift the inputs\n",
    "    inputs = (np.asfarray(all_values[1:]) / 255.0 * 0.99) + 0.01\n",
    "    # query the network\n",
    "    outputs = n.query(inputs)\n",
    "    # the index of the highest value corresponds to the label\n",
    "    label = np.argmax(outputs)\n",
    "    # append correct or incorrect to list\n",
    "    if (label == correct_label):\n",
    "        # network's answer matches correct answer, add 1 to scorecard\n",
    "        scorecard.append(1)\n",
    "    else:\n",
    "        # network's answer doesn't match correct answer, add 0 to scorecard\n",
    "        scorecard.append(0)\n",
    "        pass\n",
    "    \n",
    "  "
   ]
  },
  {
   "cell_type": "code",
   "execution_count": 161,
   "id": "b7658b04",
   "metadata": {},
   "outputs": [
    {
     "data": {
      "text/plain": [
       "('performance = ', 0.973)"
      ]
     },
     "execution_count": 161,
     "metadata": {},
     "output_type": "execute_result"
    }
   ],
   "source": [
    "# calculate the performance score, the fraction of correct answers\n",
    "scorecard_array = np.asarray(scorecard)\n",
    "\"performance = \", scorecard_array.sum() / scorecard_array.size"
   ]
  },
  {
   "cell_type": "code",
   "execution_count": null,
   "id": "4a54c8f0",
   "metadata": {},
   "outputs": [],
   "source": []
  },
  {
   "cell_type": "code",
   "execution_count": 160,
   "id": "61f6a419",
   "metadata": {},
   "outputs": [
    {
     "data": {
      "text/plain": [
       "array([[0.00567711],\n",
       "       [0.0098318 ],\n",
       "       [0.00187594],\n",
       "       [0.00426356],\n",
       "       [0.00301776],\n",
       "       [0.00718179],\n",
       "       [0.00525974],\n",
       "       [0.99690597],\n",
       "       [0.00214081],\n",
       "       [0.00221066]])"
      ]
     },
     "execution_count": 160,
     "metadata": {},
     "output_type": "execute_result"
    }
   ],
   "source": [
    "#query_example\n",
    "\n",
    "z=test_data_list[0].split(',')[1:]\n",
    "y=(np.asfarray(z)/255.0 * 0.99 )+ 0.01\n",
    "n.query(y)"
   ]
  },
  {
   "cell_type": "code",
   "execution_count": null,
   "id": "c5f63cff",
   "metadata": {},
   "outputs": [],
   "source": []
  }
 ],
 "metadata": {
  "kernelspec": {
   "display_name": "Python 3 (ipykernel)",
   "language": "python",
   "name": "python3"
  },
  "language_info": {
   "codemirror_mode": {
    "name": "ipython",
    "version": 3
   },
   "file_extension": ".py",
   "mimetype": "text/x-python",
   "name": "python",
   "nbconvert_exporter": "python",
   "pygments_lexer": "ipython3",
   "version": "3.11.4"
  }
 },
 "nbformat": 4,
 "nbformat_minor": 5
}
